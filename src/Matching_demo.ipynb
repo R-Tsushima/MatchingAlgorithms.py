{
 "cells": [
  {
   "cell_type": "code",
   "execution_count": 2,
   "metadata": {},
   "outputs": [
    {
     "ename": "SyntaxError",
     "evalue": "invalid syntax (<ipython-input-2-0afc62ee4daa>, line 2)",
     "output_type": "error",
     "traceback": [
      "\u001b[1;36m  File \u001b[1;32m\"<ipython-input-2-0afc62ee4daa>\"\u001b[1;36m, line \u001b[1;32m2\u001b[0m\n\u001b[1;33m    def my_deferred_acceptance(prop_prefs:Vector{Vector{Int}},\u001b[0m\n\u001b[1;37m                                                ^\u001b[0m\n\u001b[1;31mSyntaxError\u001b[0m\u001b[1;31m:\u001b[0m invalid syntax\n"
     ]
    }
   ],
   "source": [
    "\n",
    "def my_deferred_acceptance(prop_prefs:Vector{Vector{Int}},\n",
    "                             resp_prefs:Vector{Vector{Int}},\n",
    "                             p_caps:Vector{Int},\n",
    "                             r_caps:Vector{Int})\n",
    "    m = length(prop_prefs)\n",
    "    n = length(resp_prefs)\n",
    "    prop_matched = zeros(Int64,sum(p_caps))\n",
    "    resp_matched = zeros(Int64,sum(r_caps))\n",
    "    count = ones(Int64,m) #提案側の提案回数\n",
    "    accept = zeros(Int64,n) #受入側の受入人数\n",
    "    p_count = zeros(Int64,n) #受入側が提案された回数（選好順位の考察に使用）\n",
    "\n",
    "#iがマッチングしたリストを表すための変数\n",
    "    p_indptr = Array{Int}(m+1)\n",
    "    r_indptr = Array{Int}(n+1)\n",
    "    p_indptr[1] = 1\n",
    "    for i in 1:m\n",
    "        p_indptr[i+1] = p_indptr[i] + p_caps[i]\n",
    "    end\n",
    "    r_indptr[1] = 1\n",
    "    for i in 1:n\n",
    "        r_indptr[i+1] = r_indptr[i] + r_caps[i]\n",
    "    end\n",
    "\n",
    "    for j in 1:sum(p_caps)*sum(r_caps)\n",
    "        for i in 1:m\n",
    "            p_list = prop_matched[p_indptr[i]:p_indptr[i+1]-1]\n",
    "            if count[i] <= length(prop_prefs[i]) && findfirst(p_list, 0) != 0\n",
    "                k = prop_prefs[i][count[i]] #このラウンドでiが提案する相手k\n",
    "                if findfirst(resp_prefs[k], i) != 0\n",
    "                    if accept[k] < r_caps[k]\n",
    "                        resp_matched[r_indptr[k+1]-1 - accept[k]] = i\n",
    "                        prop_matched[p_indptr[i] + findfirst(p_list, 0) - 1] = k\n",
    "                        accept[k]+=1\n",
    "                    else\n",
    "                        list = resp_matched[r_indptr[k]:r_indptr[k+1]-1] #受入側kの保留相手のリスト\n",
    "                        ranking = zeros(Int64,r_caps[k]) #リスト内での保留相手の順序とkのそれぞれの選好順位を対応させた\n",
    "                        for l in 1:r_caps[k]\n",
    "                            ranking[l] = findfirst(resp_prefs[k], list[l])\n",
    "                        end\n",
    "                        if 0 < findfirst(resp_prefs[k], i) < maximum(ranking)\n",
    "                            d_list = prop_matched[p_indptr[list[indmax(ranking)]]:p_indptr[list[indmax(ranking)]+1]-1] #保留から外される提案側のマッチングリスト\n",
    "                            resp_matched[r_indptr[k] + indmax(ranking) - 1] = i\n",
    "                            prop_matched[p_indptr[list[indmax(ranking)]] + findfirst(d_list, k) - 1] = 0\n",
    "                            prop_matched[p_indptr[i] + findfirst(p_list, 0) - 1] = k\n",
    "                        end\n",
    "                    end\n",
    "                end\n",
    "                count[i]+=1\n",
    "                p_count[k]+=1\n",
    "            end\n",
    "        end\n",
    "    end\n",
    "    return prop_matched, resp_matched, p_indptr, r_indptr, p_count\n",
    "end\n",
    "\n",
    "#many to one\n",
    "function my_deferred_acceptance(prop_prefs::Vector{Vector{Int}},\n",
    "                                resp_prefs::Vector{Vector{Int}},\n",
    "                                r_caps::Vector{Int})\n",
    "    p_caps = ones(Int, length(prop_prefs))\n",
    "    prop_matched, resp_matched, p_indptr, r_indptr =\n",
    "        my_deferred_acceptance(prop_prefs, resp_prefs, p_caps, r_caps)\n",
    "    return prop_matched, resp_matched, r_indptr\n",
    "end\n",
    "\n",
    "#one to one\n",
    "function my_deferred_acceptance(prop_prefs::Vector{Vector{Int}},\n",
    "                                resp_prefs::Vector{Vector{Int}})\n",
    "    p_caps = ones(Int, length(prop_prefs))\n",
    "    r_caps = ones(Int, length(resp_prefs))\n",
    "    prop_matched, resp_matched, p_indptr, r_indptr, p_count =\n",
    "        my_deferred_acceptance(prop_prefs, resp_prefs, p_caps, r_caps)\n",
    "    return prop_matched, resp_matched, p_count\n",
    "end"
   ]
  },
  {
   "cell_type": "code",
   "execution_count": null,
   "metadata": {
    "collapsed": true
   },
   "outputs": [],
   "source": []
  }
 ],
 "metadata": {
  "kernelspec": {
   "display_name": "Python 3",
   "language": "python",
   "name": "python3"
  },
  "language_info": {
   "codemirror_mode": {
    "name": "ipython",
    "version": 3
   },
   "file_extension": ".py",
   "mimetype": "text/x-python",
   "name": "python",
   "nbconvert_exporter": "python",
   "pygments_lexer": "ipython3",
   "version": "3.6.1"
  }
 },
 "nbformat": 4,
 "nbformat_minor": 2
}
